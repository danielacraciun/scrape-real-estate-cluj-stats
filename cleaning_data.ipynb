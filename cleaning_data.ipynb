{
 "cells": [
  {
   "cell_type": "code",
   "execution_count": null,
   "metadata": {
    "slideshow": {
     "slide_type": "fragment"
    }
   },
   "outputs": [],
   "source": [
    "import pandas as pd\n",
    "import matplotlib.pyplot as plt\n",
    "import seaborn as sns"
   ]
  },
  {
   "cell_type": "code",
   "execution_count": 211,
   "metadata": {
    "slideshow": {
     "slide_type": "fragment"
    }
   },
   "outputs": [],
   "source": [
    "import os\n",
    "import psycopg2 as pg\n",
    "\n",
    "conn = pg.connect(\n",
    "    host=os.getenv('DATA_HOST'), \n",
    "    port=os.getenv('DATA_PORT'), \n",
    "    database=os.getenv('DATA_DB_NAME'), \n",
    "    user=os.getenv('DATA_DB_USER'), \n",
    "    password=os.getenv('DATA_DB_PASS'),\n",
    ")\n",
    "\n",
    "# df = pd.read_csv('files/data.csv')"
   ]
  },
  {
   "cell_type": "code",
   "execution_count": 212,
   "metadata": {
    "slideshow": {
     "slide_type": "slide"
    }
   },
   "outputs": [],
   "source": [
    "df = pd.read_sql('SELECT * from realestate', conn)"
   ]
  },
  {
   "cell_type": "code",
   "execution_count": 213,
   "metadata": {
    "slideshow": {
     "slide_type": "slide"
    }
   },
   "outputs": [
    {
     "data": {
      "text/plain": [
       "(12671, 19)"
      ]
     },
     "execution_count": 213,
     "metadata": {},
     "output_type": "execute_result"
    }
   ],
   "source": [
    "df.shape"
   ]
  },
  {
   "cell_type": "code",
   "execution_count": 214,
   "metadata": {
    "slideshow": {
     "slide_type": "fragment"
    }
   },
   "outputs": [
    {
     "data": {
      "text/html": [
       "<div>\n",
       "<style scoped>\n",
       "    .dataframe tbody tr th:only-of-type {\n",
       "        vertical-align: middle;\n",
       "    }\n",
       "\n",
       "    .dataframe tbody tr th {\n",
       "        vertical-align: top;\n",
       "    }\n",
       "\n",
       "    .dataframe thead th {\n",
       "        text-align: right;\n",
       "    }\n",
       "</style>\n",
       "<table border=\"1\" class=\"dataframe\">\n",
       "  <thead>\n",
       "    <tr style=\"text-align: right;\">\n",
       "      <th></th>\n",
       "      <th>fingerprint</th>\n",
       "      <th>title</th>\n",
       "      <th>description</th>\n",
       "      <th>posted_date</th>\n",
       "      <th>price</th>\n",
       "      <th>currency</th>\n",
       "      <th>partitioning</th>\n",
       "      <th>surface</th>\n",
       "      <th>building_year</th>\n",
       "      <th>floor</th>\n",
       "      <th>number_of_rooms</th>\n",
       "      <th>terrace</th>\n",
       "      <th>parking</th>\n",
       "      <th>cellar</th>\n",
       "      <th>source_website</th>\n",
       "      <th>source_offer</th>\n",
       "      <th>neighborhood</th>\n",
       "      <th>link</th>\n",
       "      <th>scraped_date</th>\n",
       "    </tr>\n",
       "  </thead>\n",
       "  <tbody>\n",
       "    <tr>\n",
       "      <th>0</th>\n",
       "      <td>74e17d23a02495e3b88bf44092cb1db038746db2</td>\n",
       "      <td>inchiriere studio, centru</td>\n",
       "      <td>capital imobiliare va propune spre inchiriere un studio situat in ...</td>\n",
       "      <td>2019-09-27 15:54:54.472305</td>\n",
       "      <td>600</td>\n",
       "      <td>EUR</td>\n",
       "      <td>semidecomandat</td>\n",
       "      <td>30.0</td>\n",
       "      <td>1970</td>\n",
       "      <td>1.0</td>\n",
       "      <td>1.0</td>\n",
       "      <td>False</td>\n",
       "      <td>False</td>\n",
       "      <td>False</td>\n",
       "      <td>lajumate</td>\n",
       "      <td>companie</td>\n",
       "      <td>central</td>\n",
       "      <td>https://lajumate.ro/inchiriere-studio-centru-10668359.html</td>\n",
       "      <td>2019-09-27 16:00:54.451592</td>\n",
       "    </tr>\n",
       "    <tr>\n",
       "      <th>1</th>\n",
       "      <td>9a31af8d7611751bf4ce6bab9f2578e50af4134e</td>\n",
       "      <td>Apartament 3 camere mobilat utilat Mihai Viteazu</td>\n",
       "      <td>Descriere anunt.css-k7cvuo{line-height:25px;display:block;position...</td>\n",
       "      <td>2019-08-20 12:21:20.515434</td>\n",
       "      <td>350</td>\n",
       "      <td>EUR</td>\n",
       "      <td>decomandat</td>\n",
       "      <td>70.0</td>\n",
       "      <td>2007</td>\n",
       "      <td>5.0</td>\n",
       "      <td>3.0</td>\n",
       "      <td>False</td>\n",
       "      <td>True</td>\n",
       "      <td>False</td>\n",
       "      <td>storia</td>\n",
       "      <td></td>\n",
       "      <td>viteazu</td>\n",
       "      <td>https://www.storia.ro/oferta/apartament-3-camere-mobilat-utilat-mi...</td>\n",
       "      <td>NaT</td>\n",
       "    </tr>\n",
       "    <tr>\n",
       "      <th>2</th>\n",
       "      <td>08ae8b49015d9782a775020623dba1866ac9f084</td>\n",
       "      <td>Apartament 2 camere zona calea dumbravi</td>\n",
       "      <td>Descriere anunt.css-k7cvuo{line-height:25px;display:block;position...</td>\n",
       "      <td>2019-08-20 12:21:29.130445</td>\n",
       "      <td>300</td>\n",
       "      <td>EUR</td>\n",
       "      <td>decomandat</td>\n",
       "      <td>56.0</td>\n",
       "      <td>None</td>\n",
       "      <td>1.0</td>\n",
       "      <td>2.0</td>\n",
       "      <td>False</td>\n",
       "      <td>False</td>\n",
       "      <td>False</td>\n",
       "      <td>storia</td>\n",
       "      <td></td>\n",
       "      <td>not found</td>\n",
       "      <td>https://www.storia.ro/oferta/apartament-2-camere-zona-calea-dumbra...</td>\n",
       "      <td>NaT</td>\n",
       "    </tr>\n",
       "  </tbody>\n",
       "</table>\n",
       "</div>"
      ],
      "text/plain": [
       "                                fingerprint  \\\n",
       "0  74e17d23a02495e3b88bf44092cb1db038746db2   \n",
       "1  9a31af8d7611751bf4ce6bab9f2578e50af4134e   \n",
       "2  08ae8b49015d9782a775020623dba1866ac9f084   \n",
       "\n",
       "                                              title  \\\n",
       "0                         inchiriere studio, centru   \n",
       "1  Apartament 3 camere mobilat utilat Mihai Viteazu   \n",
       "2           Apartament 2 camere zona calea dumbravi   \n",
       "\n",
       "                                                             description  \\\n",
       "0  capital imobiliare va propune spre inchiriere un studio situat in ...   \n",
       "1  Descriere anunt.css-k7cvuo{line-height:25px;display:block;position...   \n",
       "2  Descriere anunt.css-k7cvuo{line-height:25px;display:block;position...   \n",
       "\n",
       "                 posted_date  price currency    partitioning  surface  \\\n",
       "0 2019-09-27 15:54:54.472305    600      EUR  semidecomandat     30.0   \n",
       "1 2019-08-20 12:21:20.515434    350      EUR      decomandat     70.0   \n",
       "2 2019-08-20 12:21:29.130445    300      EUR      decomandat     56.0   \n",
       "\n",
       "  building_year  floor  number_of_rooms  terrace  parking  cellar  \\\n",
       "0          1970    1.0              1.0    False    False   False   \n",
       "1          2007    5.0              3.0    False     True   False   \n",
       "2          None    1.0              2.0    False    False   False   \n",
       "\n",
       "  source_website source_offer neighborhood  \\\n",
       "0       lajumate     companie      central   \n",
       "1         storia                   viteazu   \n",
       "2         storia                 not found   \n",
       "\n",
       "                                                                    link  \\\n",
       "0             https://lajumate.ro/inchiriere-studio-centru-10668359.html   \n",
       "1  https://www.storia.ro/oferta/apartament-3-camere-mobilat-utilat-mi...   \n",
       "2  https://www.storia.ro/oferta/apartament-2-camere-zona-calea-dumbra...   \n",
       "\n",
       "                scraped_date  \n",
       "0 2019-09-27 16:00:54.451592  \n",
       "1                        NaT  \n",
       "2                        NaT  "
      ]
     },
     "execution_count": 214,
     "metadata": {},
     "output_type": "execute_result"
    }
   ],
   "source": [
    "df.head(3)"
   ]
  },
  {
   "cell_type": "code",
   "execution_count": 215,
   "metadata": {},
   "outputs": [],
   "source": [
    "df['title'] = df['title'].str.lower()\n",
    "\n",
    "# Some description were badly scraped and contain css formatting\n",
    "# This corrects that\n",
    "mask = df.description.str.contains('css', case=False)\n",
    "df.loc[mask, 'description'] = df.loc[mask, 'description'].apply(lambda p: (p.split('}')[9]).split('.css-1prr4ql')[0])\n",
    "\n",
    "df['description'] = df['description'].str.lower()"
   ]
  },
  {
   "cell_type": "code",
   "execution_count": 216,
   "metadata": {},
   "outputs": [],
   "source": [
    "# Uneeded for analysis\n",
    "df = df.drop('fingerprint', 1)\n",
    "df.drop('source_website', 1, inplace=True)\n",
    "df.drop('link', 1, inplace=True)\n",
    "df.drop('scraped_date', 1, inplace=True)"
   ]
  },
  {
   "cell_type": "code",
   "execution_count": 217,
   "metadata": {},
   "outputs": [],
   "source": [
    "# Updating column name\n",
    "df.rename(columns={'number_of_rooms': 'rooms'}, inplace=True)"
   ]
  },
  {
   "cell_type": "code",
   "execution_count": 218,
   "metadata": {},
   "outputs": [],
   "source": [
    "# Dropping rows that don't have a posting date\n",
    "df = df.dropna(subset=['posted_date'])"
   ]
  },
  {
   "cell_type": "code",
   "execution_count": 219,
   "metadata": {},
   "outputs": [],
   "source": [
    "df['posted_date_month'] = df['posted_date'].dt.strftime('%m')\n",
    "df['posted_date_month'] = pd.to_numeric(df['posted_date_month'], errors='coerce')\n",
    "df = df.loc[df.posted_date_month > 3]\n",
    "df = df.loc[df.posted_date_month < 10]"
   ]
  },
  {
   "cell_type": "code",
   "execution_count": 220,
   "metadata": {},
   "outputs": [],
   "source": [
    "df['posted_date'] = df['posted_date'].map(lambda d: str(d).split(' ')[0])"
   ]
  },
  {
   "cell_type": "code",
   "execution_count": 221,
   "metadata": {},
   "outputs": [],
   "source": [
    "df['price'] = pd.to_numeric(df['price'], errors='coerce')"
   ]
  },
  {
   "cell_type": "code",
   "execution_count": 222,
   "metadata": {},
   "outputs": [
    {
     "data": {
      "text/plain": [
       "currency\n",
       "EUR    12324\n",
       "RON      209\n",
       "dtype: int64"
      ]
     },
     "execution_count": 222,
     "metadata": {},
     "output_type": "execute_result"
    }
   ],
   "source": [
    "df.groupby('currency').size()"
   ]
  },
  {
   "cell_type": "code",
   "execution_count": 223,
   "metadata": {},
   "outputs": [
    {
     "name": "stdout",
     "output_type": "stream",
     "text": [
      "634    2019-04-01\n",
      "Name: posted_date, dtype: object\n",
      "5741    2019-09-30\n",
      "Name: posted_date, dtype: object\n"
     ]
    }
   ],
   "source": [
    "sort_df = df.sort_values(by='posted_date')\n",
    "print(sort_df.head(1)['posted_date'])\n",
    "print(sort_df.tail(1)['posted_date'])"
   ]
  },
  {
   "cell_type": "code",
   "execution_count": 224,
   "metadata": {},
   "outputs": [],
   "source": [
    "# Average currency value from the earliest to the latest result\n",
    "avg_eur_to_ron = 4.732\n",
    "\n",
    "# Apply the conversion only to rows with RON currency\n",
    "mask = df['currency'] == 'RON'\n",
    "df.loc[mask, 'price'] = df.loc[mask, 'price'].apply(\n",
    "    lambda p: p / avg_eur_to_ron\n",
    ")\n",
    "\n",
    "# Currency is all the same, so it's an irrelevant observation\n",
    "df.drop('currency', 1, inplace=True)"
   ]
  },
  {
   "cell_type": "code",
   "execution_count": 225,
   "metadata": {},
   "outputs": [
    {
     "data": {
      "image/png": "[encoded data removed]",
      "text/plain": [
       "<Figure size 720x360 with 1 Axes>"
      ]
     },
     "metadata": {
      "needs_background": "light"
     },
     "output_type": "display_data"
    }
   ],
   "source": [
    "# Number of null values per column\n",
    "df_nulls = df.isnull().sum()\n",
    "df_nulls = df_nulls[df_nulls > 0]\n",
    "nulls_graph = sb.barplot(x=df_nulls.values, y=df_nulls.index)"
   ]
  },
  {
   "cell_type": "code",
   "execution_count": 226,
   "metadata": {},
   "outputs": [],
   "source": [
    "df = df[df.neighborhood != 'not found']"
   ]
  },
  {
   "cell_type": "code",
   "execution_count": 227,
   "metadata": {},
   "outputs": [
    {
     "data": {
      "text/html": [
       "<div>\n",
       "<style scoped>\n",
       "    .dataframe tbody tr th:only-of-type {\n",
       "        vertical-align: middle;\n",
       "    }\n",
       "\n",
       "    .dataframe tbody tr th {\n",
       "        vertical-align: top;\n",
       "    }\n",
       "\n",
       "    .dataframe thead th {\n",
       "        text-align: right;\n",
       "    }\n",
       "</style>\n",
       "<table border=\"1\" class=\"dataframe\">\n",
       "  <thead>\n",
       "    <tr style=\"text-align: right;\">\n",
       "      <th></th>\n",
       "      <th>title</th>\n",
       "      <th>description</th>\n",
       "      <th>posted_date</th>\n",
       "      <th>price</th>\n",
       "      <th>partitioning</th>\n",
       "      <th>surface</th>\n",
       "      <th>building_year</th>\n",
       "      <th>floor</th>\n",
       "      <th>rooms</th>\n",
       "      <th>terrace</th>\n",
       "      <th>parking</th>\n",
       "      <th>cellar</th>\n",
       "      <th>source_offer</th>\n",
       "      <th>neighborhood</th>\n",
       "      <th>posted_date_month</th>\n",
       "    </tr>\n",
       "  </thead>\n",
       "  <tbody>\n",
       "    <tr>\n",
       "      <th>0</th>\n",
       "      <td>inchiriere studio, centru</td>\n",
       "      <td>capital imobiliare va propune spre inchiriere un studio situat in ...</td>\n",
       "      <td>2019-09-27</td>\n",
       "      <td>600.0</td>\n",
       "      <td>semidecomandat</td>\n",
       "      <td>30.0</td>\n",
       "      <td>1970</td>\n",
       "      <td>1.0</td>\n",
       "      <td>1.0</td>\n",
       "      <td>False</td>\n",
       "      <td>False</td>\n",
       "      <td>False</td>\n",
       "      <td>companie</td>\n",
       "      <td>central</td>\n",
       "      <td>9</td>\n",
       "    </tr>\n",
       "    <tr>\n",
       "      <th>1</th>\n",
       "      <td>apartament 3 camere mobilat utilat mihai viteazu</td>\n",
       "      <td>oferim spre inchiriere aprtament cu 3 camere situat in zona buleva...</td>\n",
       "      <td>2019-08-20</td>\n",
       "      <td>350.0</td>\n",
       "      <td>decomandat</td>\n",
       "      <td>70.0</td>\n",
       "      <td>2007</td>\n",
       "      <td>5.0</td>\n",
       "      <td>3.0</td>\n",
       "      <td>False</td>\n",
       "      <td>True</td>\n",
       "      <td>False</td>\n",
       "      <td></td>\n",
       "      <td>viteazu</td>\n",
       "      <td>8</td>\n",
       "    </tr>\n",
       "    <tr>\n",
       "      <th>2</th>\n",
       "      <td>apartament 2 camere zona calea dumbravi</td>\n",
       "      <td>apartament 2 camere decomandat de inchiriat in sibiu zona calea du...</td>\n",
       "      <td>2019-08-20</td>\n",
       "      <td>300.0</td>\n",
       "      <td>decomandat</td>\n",
       "      <td>56.0</td>\n",
       "      <td>None</td>\n",
       "      <td>1.0</td>\n",
       "      <td>2.0</td>\n",
       "      <td>False</td>\n",
       "      <td>False</td>\n",
       "      <td>False</td>\n",
       "      <td></td>\n",
       "      <td>not found</td>\n",
       "      <td>8</td>\n",
       "    </tr>\n",
       "    <tr>\n",
       "      <th>3</th>\n",
       "      <td>apartament 2 camere, 70 mp, semidecomandat, zona ultracentrala</td>\n",
       "      <td>blitz ofera spre inchiriere apartament cu 2 camere semidecomandate...</td>\n",
       "      <td>2019-08-28</td>\n",
       "      <td>550.0</td>\n",
       "      <td>None</td>\n",
       "      <td>70.0</td>\n",
       "      <td>None</td>\n",
       "      <td>1.0</td>\n",
       "      <td>2.0</td>\n",
       "      <td>False</td>\n",
       "      <td>False</td>\n",
       "      <td>False</td>\n",
       "      <td></td>\n",
       "      <td>ultracentral</td>\n",
       "      <td>8</td>\n",
       "    </tr>\n",
       "    <tr>\n",
       "      <th>4</th>\n",
       "      <td>inchiriez ap 2 camera 48m mp in cartierul manastur</td>\n",
       "      <td>inchiriez ap cu 1 camera cu living si bucatarie baie camara la cas...</td>\n",
       "      <td>2019-09-23</td>\n",
       "      <td>350.0</td>\n",
       "      <td>nedecomandat</td>\n",
       "      <td>48.0</td>\n",
       "      <td>None</td>\n",
       "      <td>NaN</td>\n",
       "      <td>1.0</td>\n",
       "      <td>False</td>\n",
       "      <td>False</td>\n",
       "      <td>False</td>\n",
       "      <td>proprietar</td>\n",
       "      <td>manastur</td>\n",
       "      <td>9</td>\n",
       "    </tr>\n",
       "  </tbody>\n",
       "</table>\n",
       "</div>"
      ],
      "text/plain": [
       "                                                            title  \\\n",
       "0                                       inchiriere studio, centru   \n",
       "1                apartament 3 camere mobilat utilat mihai viteazu   \n",
       "2                         apartament 2 camere zona calea dumbravi   \n",
       "3  apartament 2 camere, 70 mp, semidecomandat, zona ultracentrala   \n",
       "4              inchiriez ap 2 camera 48m mp in cartierul manastur   \n",
       "\n",
       "                                                             description  \\\n",
       "0  capital imobiliare va propune spre inchiriere un studio situat in ...   \n",
       "1  oferim spre inchiriere aprtament cu 3 camere situat in zona buleva...   \n",
       "2  apartament 2 camere decomandat de inchiriat in sibiu zona calea du...   \n",
       "3  blitz ofera spre inchiriere apartament cu 2 camere semidecomandate...   \n",
       "4  inchiriez ap cu 1 camera cu living si bucatarie baie camara la cas...   \n",
       "\n",
       "  posted_date  price    partitioning  surface building_year  floor  rooms  \\\n",
       "0  2019-09-27  600.0  semidecomandat     30.0          1970    1.0    1.0   \n",
       "1  2019-08-20  350.0      decomandat     70.0          2007    5.0    3.0   \n",
       "2  2019-08-20  300.0      decomandat     56.0          None    1.0    2.0   \n",
       "3  2019-08-28  550.0            None     70.0          None    1.0    2.0   \n",
       "4  2019-09-23  350.0    nedecomandat     48.0          None    NaN    1.0   \n",
       "\n",
       "   terrace  parking  cellar source_offer  neighborhood  posted_date_month  \n",
       "0    False    False   False     companie       central                  9  \n",
       "1    False     True   False                    viteazu                  8  \n",
       "2    False    False   False                  not found                  8  \n",
       "3    False    False   False               ultracentral                  8  \n",
       "4    False    False   False   proprietar      manastur                  9  "
      ]
     },
     "execution_count": 227,
     "metadata": {},
     "output_type": "execute_result"
    }
   ],
   "source": [
    "df.head(5)"
   ]
  },
  {
   "cell_type": "code",
   "execution_count": 228,
   "metadata": {},
   "outputs": [],
   "source": [
    "# Nullify missing values\n",
    "df.source_offer = df.source_offer.replace({\n",
    "    '': None\n",
    "})"
   ]
  },
  {
   "cell_type": "code",
   "execution_count": 229,
   "metadata": {},
   "outputs": [
    {
     "data": {
      "text/html": [
       "<div>\n",
       "<style scoped>\n",
       "    .dataframe tbody tr th:only-of-type {\n",
       "        vertical-align: middle;\n",
       "    }\n",
       "\n",
       "    .dataframe tbody tr th {\n",
       "        vertical-align: top;\n",
       "    }\n",
       "\n",
       "    .dataframe thead th {\n",
       "        text-align: right;\n",
       "    }\n",
       "</style>\n",
       "<table border=\"1\" class=\"dataframe\">\n",
       "  <thead>\n",
       "    <tr style=\"text-align: right;\">\n",
       "      <th></th>\n",
       "      <th>count</th>\n",
       "    </tr>\n",
       "    <tr>\n",
       "      <th>source_offer</th>\n",
       "      <th></th>\n",
       "    </tr>\n",
       "  </thead>\n",
       "  <tbody>\n",
       "    <tr>\n",
       "      <th>Agentie</th>\n",
       "      <td>26</td>\n",
       "    </tr>\n",
       "    <tr>\n",
       "      <th>Proprietar</th>\n",
       "      <td>30</td>\n",
       "    </tr>\n",
       "    <tr>\n",
       "      <th>agentie</th>\n",
       "      <td>5001</td>\n",
       "    </tr>\n",
       "    <tr>\n",
       "      <th>agentie imobiliara</th>\n",
       "      <td>1306</td>\n",
       "    </tr>\n",
       "    <tr>\n",
       "      <th>companie</th>\n",
       "      <td>355</td>\n",
       "    </tr>\n",
       "    <tr>\n",
       "      <th>constructor</th>\n",
       "      <td>4</td>\n",
       "    </tr>\n",
       "    <tr>\n",
       "      <th>persoana fizica</th>\n",
       "      <td>599</td>\n",
       "    </tr>\n",
       "    <tr>\n",
       "      <th>persoană fizică</th>\n",
       "      <td>14</td>\n",
       "    </tr>\n",
       "    <tr>\n",
       "      <th>proprietar</th>\n",
       "      <td>3025</td>\n",
       "    </tr>\n",
       "  </tbody>\n",
       "</table>\n",
       "</div>"
      ],
      "text/plain": [
       "                    count\n",
       "source_offer             \n",
       "Agentie                26\n",
       "Proprietar             30\n",
       "agentie              5001\n",
       "agentie imobiliara   1306\n",
       "companie              355\n",
       "constructor             4\n",
       "persoana fizica       599\n",
       "persoană fizică        14\n",
       "proprietar           3025"
      ]
     },
     "execution_count": 229,
     "metadata": {},
     "output_type": "execute_result"
    }
   ],
   "source": [
    "# Wrapping in dataframe for better display\n",
    "pd.DataFrame(\n",
    "    df.groupby('source_offer').size(), columns=['count']\n",
    ")"
   ]
  },
  {
   "cell_type": "code",
   "execution_count": 230,
   "metadata": {},
   "outputs": [
    {
     "data": {
      "text/plain": [
       "2173"
      ]
     },
     "execution_count": 230,
     "metadata": {},
     "output_type": "execute_result"
    }
   ],
   "source": [
    "df['source_offer'].isna().sum()"
   ]
  },
  {
   "cell_type": "code",
   "execution_count": 231,
   "metadata": {},
   "outputs": [],
   "source": [
    "df['source_offer'] = df['source_offer'].str.lower()\n",
    "df['source_offer'] = df['source_offer'].fillna('unknown')\n",
    "\n",
    "df.source_offer = df.source_offer.replace({\n",
    "    'agentie': 'real estate agency',\n",
    "    'companie': 'real estate agency',\n",
    "    'constructor': 'building company',\n",
    "    'persoana fizica': 'owner',\n",
    "    'persoană fizică': 'owner',\n",
    "    'proprietar': 'owner',\n",
    "    'agentie imobiliara': 'real estate agency'\n",
    "})"
   ]
  },
  {
   "cell_type": "code",
   "execution_count": 232,
   "metadata": {},
   "outputs": [
    {
     "data": {
      "text/plain": [
       "neighborhood\n",
       "? string:18 ?             1\n",
       "andrei muresanu         279\n",
       "aurel vlaicu              3\n",
       "baciu                    67\n",
       "becas                     1\n",
       "borhanci                 54\n",
       "bulgaria                 15\n",
       "buna ziua               664\n",
       "calea turzii            186\n",
       "campului                 27\n",
       "central                  89\n",
       "centru                  970\n",
       "dambul rotund            46\n",
       "dorobantilor            159\n",
       "est                       1\n",
       "europa                  143\n",
       "expo transilvania        19\n",
       "faget                     2\n",
       "floresti                154\n",
       "gara                    827\n",
       "gheorgheni              916\n",
       "grigorescu              369\n",
       "gruia                    52\n",
       "hasdeu                   33\n",
       "horea                    79\n",
       "interservisan            36\n",
       "intre lacuri            180\n",
       "iris                    153\n",
       "iulius                  640\n",
       "manastur               1146\n",
       "marasti                1127\n",
       "muzeului                 17\n",
       "not found              1665\n",
       "p-ta mihai viteazul      20\n",
       "piata unirii             47\n",
       "plopilor                150\n",
       "polus                     4\n",
       "semicentral              43\n",
       "sigma                    44\n",
       "someseni                 26\n",
       "sopor                    62\n",
       "the office               32\n",
       "titulescu                46\n",
       "ultracentral            348\n",
       "usamv                    77\n",
       "vest                      1\n",
       "viteazu                 204\n",
       "vivo                     45\n",
       "zorilor                1264\n",
       "dtype: int64"
      ]
     },
     "execution_count": 232,
     "metadata": {},
     "output_type": "execute_result"
    }
   ],
   "source": [
    "df.groupby('neighborhood').size()"
   ]
  },
  {
   "cell_type": "code",
   "execution_count": 233,
   "metadata": {},
   "outputs": [],
   "source": [
    "mapping = {\n",
    "    'calea turzii': 'andrei muresanu',\n",
    "    'sigma': 'zorilor',\n",
    "    'cipariu':'centru',\n",
    "    'motilor':'centru', \n",
    "    'muzeului':'centru', \n",
    "    'piata unirii':'centru', \n",
    "    'viteazu': 'centru', \n",
    "    'ultracentral': 'centru',\n",
    "    'the office': 'marasti',\n",
    "    'usamv': 'manastur',\n",
    "    'polus': 'vivo',\n",
    "    'interservisan': 'gheorgheni', \n",
    "    'titulescu': 'gheorgheni', \n",
    "    'iulius': 'gheorgheni',\n",
    "    'expo transilvania':'intre lacuri',\n",
    "    'semicentral': 'centru',\n",
    "    'aurel vlaicu': 'marasti',\n",
    "    'dorobantilor': 'marasti',\n",
    "    'central': 'centru',\n",
    "    'vest': 'floresti',\n",
    "    'est': 'someseni',\n",
    "    'campului': 'manastur',\n",
    "    'gara': 'centru',\n",
    "    'horea': 'centru',\n",
    "    'hasdeu': 'centru',\n",
    "    'p-ta mihai viteazul': 'centru',\n",
    "    'vivo': 'floresti',\n",
    "}\n",
    "df.neighborhood = df.neighborhood.replace(mapping)\n",
    "df = df.loc[df.neighborhood != '? string:18 ?']"
   ]
  },
  {
   "cell_type": "code",
   "execution_count": 234,
   "metadata": {},
   "outputs": [],
   "source": [
    "df['price_sqm'] = df['price'] / df['surface']"
   ]
  },
  {
   "cell_type": "code",
   "execution_count": 235,
   "metadata": {},
   "outputs": [],
   "source": [
    "df.floor = df.floor.astype(str)\n",
    "df.floor = df.floor.map(lambda d: str(d).split('.')[0])\n",
    "df.floor = df.floor.replace({'99': 'attic', '0': 'ground floor', '-1': 'basement'})"
   ]
  },
  {
   "cell_type": "code",
   "execution_count": 236,
   "metadata": {},
   "outputs": [],
   "source": [
    "plt.rcParams['figure.figsize'] = [10, 5]\n",
    "plt.rcParams.update({'font.size': 16})"
   ]
  },
  {
   "cell_type": "code",
   "execution_count": 237,
   "metadata": {},
   "outputs": [
    {
     "data": {
      "image/png": "[encoded data removed]",
      "text/plain": [
       "<Figure size 720x360 with 1 Axes>"
      ]
     },
     "metadata": {
      "needs_background": "light"
     },
     "output_type": "display_data"
    }
   ],
   "source": [
    "# Exploring the linear relationship between price and surface\n",
    "kwargs = {'line_kws': {'color':'red'}}\n",
    "# kwargs2 = {'line_kws': {'color':'yellow'}}\n",
    "# fig, ax = plt.subplots()\n",
    "# data = [[65, 420]]\n",
    "# df2 = pd.DataFrame(data, columns=[\"surface\", \"price\"])\n",
    "lr = sns.regplot(x=\"surface\", y=\"price\", data=df, **kwargs)\n",
    "# lr = sns.regplot(x=\"surface\", y=\"price\", data=df2, ax=ax, fit_reg=False, **kwargs2)"
   ]
  },
  {
   "cell_type": "code",
   "execution_count": 238,
   "metadata": {},
   "outputs": [],
   "source": [
    "# Outliers can be brought on by sellers \n",
    "# wrongly marking apartments for sale as for rent\n",
    "# Or just general mislabeling and  extreme values\n",
    "df = df.loc[df.price > 100]\n",
    "df = df.loc[df.price < 2000]\n",
    "df = df.loc[df.surface < 200]\n",
    "df = df.loc[df.surface > 15]"
   ]
  },
  {
   "cell_type": "code",
   "execution_count": 239,
   "metadata": {},
   "outputs": [
    {
     "data": {
      "image/png": "[encoded data removed]",
      "text/plain": [
       "<Figure size 720x360 with 1 Axes>"
      ]
     },
     "metadata": {
      "needs_background": "light"
     },
     "output_type": "display_data"
    }
   ],
   "source": [
    "# Exploring the linear relationship between surface and rooms\n",
    "linear_graph = sb.regplot(x=\"surface\", y=\"rooms\", data=df)"
   ]
  },
  {
   "cell_type": "code",
   "execution_count": 240,
   "metadata": {},
   "outputs": [
    {
     "data": {
      "image/png": "[encoded data removed]",
      "text/plain": [
       "<Figure size 720x360 with 1 Axes>"
      ]
     },
     "metadata": {
      "needs_background": "light"
     },
     "output_type": "display_data"
    }
   ],
   "source": [
    "# Exploring the linear relationship between price and rooms\n",
    "linear_graph = sb.regplot(x=\"rooms\", y=\"price\", data=df)"
   ]
  },
  {
   "cell_type": "code",
   "execution_count": 241,
   "metadata": {},
   "outputs": [],
   "source": [
    "# Run until here to get data soft cleaned \n",
    "# df.to_csv('files/cleaned_re_data_full.csv', index=False)"
   ]
  },
  {
   "cell_type": "code",
   "execution_count": 242,
   "metadata": {},
   "outputs": [],
   "source": [
    "# More aggresive cleaning\n",
    "df = df.loc[df.rooms < 6]\n",
    "df = df.loc[df.price_sqm < 25]"
   ]
  },
  {
   "cell_type": "code",
   "execution_count": 243,
   "metadata": {},
   "outputs": [],
   "source": [
    "# Deleting office spaces, dorm, single rooms offerings\n",
    "# since I'm only interested in full residential rooms\n",
    "df = df.loc[df.title.str.contains('camera', case=False) == False]\n",
    "df = df.loc[df.title.str.contains('camin', case=False) == False]\n",
    "df = df.loc[df.title.str.contains(' ron', case=False) == False]\n",
    "df = df.loc[df.title.str.contains('caut', case=False) == False]\n",
    "df = df.loc[df.title.str.contains('birou', case=False) == False]"
   ]
  },
  {
   "cell_type": "code",
   "execution_count": 244,
   "metadata": {},
   "outputs": [],
   "source": [
    "# Remove less than 10, not very helpful for statistics\n",
    "df = df.groupby('neighborhood').filter(lambda x: len(x)>9)"
   ]
  },
  {
   "cell_type": "code",
   "execution_count": 245,
   "metadata": {},
   "outputs": [],
   "source": [
    "df = df.drop('building_year', 1)"
   ]
  },
  {
   "cell_type": "code",
   "execution_count": 246,
   "metadata": {},
   "outputs": [],
   "source": [
    "df.to_csv('files/cleaned_re_data_full.csv', index=False)"
   ]
  },
  {
   "cell_type": "code",
   "execution_count": 247,
   "metadata": {},
   "outputs": [
    {
     "data": {
      "text/html": [
       "<div>\n",
       "<style scoped>\n",
       "    .dataframe tbody tr th:only-of-type {\n",
       "        vertical-align: middle;\n",
       "    }\n",
       "\n",
       "    .dataframe tbody tr th {\n",
       "        vertical-align: top;\n",
       "    }\n",
       "\n",
       "    .dataframe thead th {\n",
       "        text-align: right;\n",
       "    }\n",
       "</style>\n",
       "<table border=\"1\" class=\"dataframe\">\n",
       "  <thead>\n",
       "    <tr style=\"text-align: right;\">\n",
       "      <th></th>\n",
       "      <th>title</th>\n",
       "      <th>description</th>\n",
       "      <th>posted_date</th>\n",
       "      <th>price</th>\n",
       "      <th>partitioning</th>\n",
       "      <th>surface</th>\n",
       "      <th>floor</th>\n",
       "      <th>rooms</th>\n",
       "      <th>terrace</th>\n",
       "      <th>parking</th>\n",
       "      <th>cellar</th>\n",
       "      <th>source_offer</th>\n",
       "      <th>neighborhood</th>\n",
       "      <th>posted_date_month</th>\n",
       "      <th>price_sqm</th>\n",
       "    </tr>\n",
       "  </thead>\n",
       "  <tbody>\n",
       "    <tr>\n",
       "      <th>0</th>\n",
       "      <td>inchiriere studio, centru</td>\n",
       "      <td>capital imobiliare va propune spre inchiriere un studio situat in ...</td>\n",
       "      <td>2019-09-27</td>\n",
       "      <td>600.0</td>\n",
       "      <td>semidecomandat</td>\n",
       "      <td>30.0</td>\n",
       "      <td>1</td>\n",
       "      <td>1.0</td>\n",
       "      <td>False</td>\n",
       "      <td>False</td>\n",
       "      <td>False</td>\n",
       "      <td>real estate agency</td>\n",
       "      <td>centru</td>\n",
       "      <td>9</td>\n",
       "      <td>20.000000</td>\n",
       "    </tr>\n",
       "    <tr>\n",
       "      <th>1</th>\n",
       "      <td>apartament 3 camere mobilat utilat mihai viteazu</td>\n",
       "      <td>oferim spre inchiriere aprtament cu 3 camere situat in zona buleva...</td>\n",
       "      <td>2019-08-20</td>\n",
       "      <td>350.0</td>\n",
       "      <td>decomandat</td>\n",
       "      <td>70.0</td>\n",
       "      <td>5</td>\n",
       "      <td>3.0</td>\n",
       "      <td>False</td>\n",
       "      <td>True</td>\n",
       "      <td>False</td>\n",
       "      <td>unknown</td>\n",
       "      <td>centru</td>\n",
       "      <td>8</td>\n",
       "      <td>5.000000</td>\n",
       "    </tr>\n",
       "    <tr>\n",
       "      <th>2</th>\n",
       "      <td>apartament 2 camere zona calea dumbravi</td>\n",
       "      <td>apartament 2 camere decomandat de inchiriat in sibiu zona calea du...</td>\n",
       "      <td>2019-08-20</td>\n",
       "      <td>300.0</td>\n",
       "      <td>decomandat</td>\n",
       "      <td>56.0</td>\n",
       "      <td>1</td>\n",
       "      <td>2.0</td>\n",
       "      <td>False</td>\n",
       "      <td>False</td>\n",
       "      <td>False</td>\n",
       "      <td>unknown</td>\n",
       "      <td>not found</td>\n",
       "      <td>8</td>\n",
       "      <td>5.357143</td>\n",
       "    </tr>\n",
       "    <tr>\n",
       "      <th>3</th>\n",
       "      <td>apartament 2 camere, 70 mp, semidecomandat, zona ultracentrala</td>\n",
       "      <td>blitz ofera spre inchiriere apartament cu 2 camere semidecomandate...</td>\n",
       "      <td>2019-08-28</td>\n",
       "      <td>550.0</td>\n",
       "      <td>None</td>\n",
       "      <td>70.0</td>\n",
       "      <td>1</td>\n",
       "      <td>2.0</td>\n",
       "      <td>False</td>\n",
       "      <td>False</td>\n",
       "      <td>False</td>\n",
       "      <td>unknown</td>\n",
       "      <td>centru</td>\n",
       "      <td>8</td>\n",
       "      <td>7.857143</td>\n",
       "    </tr>\n",
       "    <tr>\n",
       "      <th>5</th>\n",
       "      <td>chirie 2 camere gheorgheni</td>\n",
       "      <td>inchiriez de la 1 octombrie apartament 2 camere, parter, strada he...</td>\n",
       "      <td>2019-09-23</td>\n",
       "      <td>400.0</td>\n",
       "      <td>semidecomandat</td>\n",
       "      <td>48.0</td>\n",
       "      <td>nan</td>\n",
       "      <td>2.0</td>\n",
       "      <td>False</td>\n",
       "      <td>False</td>\n",
       "      <td>False</td>\n",
       "      <td>owner</td>\n",
       "      <td>gheorgheni</td>\n",
       "      <td>9</td>\n",
       "      <td>8.333333</td>\n",
       "    </tr>\n",
       "  </tbody>\n",
       "</table>\n",
       "</div>"
      ],
      "text/plain": [
       "                                                            title  \\\n",
       "0                                       inchiriere studio, centru   \n",
       "1                apartament 3 camere mobilat utilat mihai viteazu   \n",
       "2                         apartament 2 camere zona calea dumbravi   \n",
       "3  apartament 2 camere, 70 mp, semidecomandat, zona ultracentrala   \n",
       "5                                      chirie 2 camere gheorgheni   \n",
       "\n",
       "                                                             description  \\\n",
       "0  capital imobiliare va propune spre inchiriere un studio situat in ...   \n",
       "1  oferim spre inchiriere aprtament cu 3 camere situat in zona buleva...   \n",
       "2  apartament 2 camere decomandat de inchiriat in sibiu zona calea du...   \n",
       "3  blitz ofera spre inchiriere apartament cu 2 camere semidecomandate...   \n",
       "5  inchiriez de la 1 octombrie apartament 2 camere, parter, strada he...   \n",
       "\n",
       "  posted_date  price    partitioning  surface floor  rooms  terrace  parking  \\\n",
       "0  2019-09-27  600.0  semidecomandat     30.0     1    1.0    False    False   \n",
       "1  2019-08-20  350.0      decomandat     70.0     5    3.0    False     True   \n",
       "2  2019-08-20  300.0      decomandat     56.0     1    2.0    False    False   \n",
       "3  2019-08-28  550.0            None     70.0     1    2.0    False    False   \n",
       "5  2019-09-23  400.0  semidecomandat     48.0   nan    2.0    False    False   \n",
       "\n",
       "   cellar        source_offer neighborhood  posted_date_month  price_sqm  \n",
       "0   False  real estate agency       centru                  9  20.000000  \n",
       "1   False             unknown       centru                  8   5.000000  \n",
       "2   False             unknown    not found                  8   5.357143  \n",
       "3   False             unknown       centru                  8   7.857143  \n",
       "5   False               owner   gheorgheni                  9   8.333333  "
      ]
     },
     "execution_count": 247,
     "metadata": {},
     "output_type": "execute_result"
    }
   ],
   "source": [
    "df.head(5)"
   ]
  },
  {
   "cell_type": "code",
   "execution_count": 248,
   "metadata": {},
   "outputs": [],
   "source": [
    "for month in range(4, 10):\n",
    "    df = df.loc[df.posted_date_month == 9]\n",
    "    df.to_csv(f'files/cleaned_re_data_{month}.csv', index=False)"
   ]
  }
 ],
 "metadata": {
  "celltoolbar": "Slideshow",
  "kernelspec": {
   "display_name": "Python 3",
   "language": "python",
   "name": "python3"
  },
  "language_info": {
   "codemirror_mode": {
    "name": "ipython",
    "version": 3
   },
   "file_extension": ".py",
   "mimetype": "text/x-python",
   "name": "python",
   "nbconvert_exporter": "python",
   "pygments_lexer": "ipython3",
   "version": "3.6.9"
  }
 },
 "nbformat": 4,
 "nbformat_minor": 2
}
